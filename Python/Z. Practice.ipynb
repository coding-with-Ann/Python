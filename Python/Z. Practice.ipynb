{
 "cells": [
  {
   "cell_type": "code",
   "execution_count": null,
   "id": "4c6b52b4",
   "metadata": {},
   "outputs": [],
   "source": [
    "a=100\n",
    "b=5+4j\n",
    "\n",
    "id(a)\n",
    "type(a)\n",
    "b.real\n",
    "b.imag\n",
    "\n",
    "str1=\"hello, there, hi\"\n",
    "str1.find(\"e\")\n",
    "str1.split(\",\")\n",
    "print(len(str1))\n",
    "\n",
    "x=b\"hello world\"\n",
    "print(x[4])      #returns ascii value of 'l'\n",
    "\n",
    "import math\n",
    "random.random()\n",
    "\n",
    "list.append()\n",
    "list.pop()\n",
    "list.reverse()\n",
    "\n",
    "bin(a)\n",
    "hex(a)\n",
    "oct(a)\n",
    "0b11011\n",
    "0o1773\n",
    "0xe234f\n",
    "\n",
    "chr(75)\n",
    "ord('A')\n",
    "\n",
    "from fractions import Fraction as f\n",
    "\n",
    "x=9.5\n",
    "abs(x)\n",
    "\n",
    "import math\n",
    "print(math.pi)\n",
    "print(math.e)   #value of exponent e\n",
    "print(math.exp(10))    # e power 10\n",
    "print(math.log10(1000))\n",
    "print(math.factorial(6))\n",
    "print(math.sqrt(4))\n",
    "print(math.ceil(-43.5))   # ceiling fn gives the greatest value of the number wrote in the ceiling fn \n",
    "print(math.floor(-43.5))  # The floor fn returns the lowest value of the number entered\n",
    "print(math.pow(2, 5))\n",
    "\n",
    "print(max(1,2,3,99,66))\n",
    "print(min(1,2,3,99.66))\n",
    "\n",
    "random.randrange(10,20)\n",
    "random.random()\n",
    "x=[1,2,3,4,5]\n",
    "random.choice(x)\n",
    "\n",
    "str1[::-1]\n",
    "str1[::-2]\n",
    "\n",
    "#strings are immutable\n",
    "str2=\"hi there\"\n",
    "del str2\n",
    "print('w' in str1)\n",
    "\n",
    "print(\"{} and {} are best friends\".format(\"james\", \"brad\"))  #python replaces the curly braces with names\n",
    "print(\"{1} and {0} are best friends\". format(\"james\", \"brad\")) #only 1, 0 are allowed\n",
    "print(\"{a} and {b} are best friends\". format(a = \"james\",b = \"brad\"))\n",
    "\n",
    "name=\"Angella\"\n",
    "salary=1000\n",
    "print(\"Her name is %s\\nHer salary is %d\" %(name,salary))\n",
    "str1.capitalize() #Makes first letter capital\n",
    "str1.upper()\n",
    "str1.lower()\n",
    "str2 = str1.casefold()     #converts upper  case to lower case\n",
    "\n",
    "str3 = \"hello there\" #used to capitalize the first letter of each word in a string\n",
    "str3.title()\n",
    "\n",
    "str1.count('n')\n",
    "str1.replace(\"\",\"\")\n",
    "str1.split()\n"
   ]
  },
  {
   "cell_type": "code",
   "execution_count": null,
   "id": "d4111003",
   "metadata": {},
   "outputs": [],
   "source": [
    "#BITWISE OPERATORS: &, |. <<, >>, ~  \n",
    "#IT ACTS ON BITS AND PERFORMS BIT BY BIT OPERATIONS\n",
    "\n",
    "#IDENTITY OPERATORS: IS, IS NOT \n",
    "#USED TO CHECK IF TWO VALUES ARE LOCATED ON SAME PART OF THE MEMORY\n",
    "#TWO VARIABLES THAT ARE EQUAL DOES NOT IMPLY THEY ARE IDENTICAL\n",
    "\n",
    "#MEMBERSHIP OPERATORS: IN, NOT IN   *****\n",
    "#USED TO TEST WHEATHER A VARIABLE OR VALUE IS IN A SEQUENCE\n",
    "\n",
    "#THERE IS NO INCREMENT AND DECREMENT OPERATORS IN PYTHON (NO ++, --)"
   ]
  },
  {
   "cell_type": "code",
   "execution_count": null,
   "id": "b9ee294a",
   "metadata": {},
   "outputs": [],
   "source": [
    "i = 0\n",
    "while i<5:\n",
    "    i = i+1\n",
    "    print(i, end = \" \")     #** changed new line escape sequence to space to print in one line\n",
    "    \n",
    "    \n",
    "alpha = ['d','f', 'c']\n",
    "alpha+= 'ka'                         #****\n",
    "print(alpha)\n",
    "\n",
    "\n",
    "#while with else\n",
    "#break, continue\n",
    "#list append,pop\n",
    "#check for loop\n",
    "#I.looping techs and enumerator\n",
    "\n"
   ]
  },
  {
   "cell_type": "code",
   "execution_count": null,
   "id": "1d5ab0a9",
   "metadata": {},
   "outputs": [],
   "source": [
    "a=10\n",
    "print(type(a))\n",
    "print(id(a))\n",
    "b=4+5j\n",
    "b.imag\n",
    "str1=\"hello world, welcome to the python programming paradyme\"\n",
    "str1.find('e')\n",
    "str1.split(',')\n",
    "len(str1)\n",
    "\n",
    "str2=b\"hello there\"\n",
    "print(str2[4])   #****\n",
    "\n",
    "import random\n",
    "random.random()\n",
    "print(0o127)\n",
    "\n",
    "print(chr(66))\n",
    "print(ord('a'))\n",
    "\n",
    "x=[1,2,3,4,5,6]\n",
    "random.choice(x)\n",
    "str3=\"hello, hi\"\n",
    "str3.upper()\n",
    "str3.lower()\n",
    "str3.capitalize()\n",
    "\n",
    "str3.title()\n",
    "str3.casefold()\n",
    "x=-87\n",
    "abs(x)\n",
    "\n",
    "print(\"{} and {} are continents\".format(\"Asia\",\"Europe\"))\n",
    "print(\"{a} and {b} are continents\".format(a=\"Asia\", b=\"NorthAmerica\"))\n",
    "print(\"{0} and {1} are continents\".format(\"Asia\",\"Europe\"))\n",
    "\n",
    "name1=\"Angelica\"\n",
    "salary=1000\n",
    "print(\"Your name is %s\\nsalary is %d\"%(name1,salary))\n",
    "str1.count(\"c\")\n",
    "str1.replace(\"paradyme\", \"world\")"
   ]
  },
  {
   "cell_type": "code",
   "execution_count": null,
   "id": "8cccd22f",
   "metadata": {},
   "outputs": [],
   "source": [
    "list1.append()\n",
    "list1.insert(1,\"hi\")\n",
    "list1[1][2]\n",
    "list1.extend(list2)\n",
    "list1.extend('kiwi','orange')\n",
    "list1.index('kiwi')\n",
    "\n",
    "list1.pop(2)\n",
    "list1.remove('orange')\n",
    "del list3[1]         \n",
    "list2.cler()\n",
    "\n",
    "list1.reverse()\n",
    "list1.count('usa')\n",
    "list1.sort()\n",
    "\n",
    "\n",
    "print(dict1.get(1))\n",
    "print(dict1.pop(4))\n",
    "dict1.popitem() #removes last element\n",
    "print(dict1)\n",
    "\n",
    "\n",
    "\n",
    "print(dict1.keys())\n",
    "print(dict1.values())\n",
    "dict1.update({2:'watermelon'})\n",
    "print(dict1)\n",
    "dict1.update({5:'Muskmelon'})\n",
    "print(dict1)\n",
    "print(len(dict1))\n",
    "print(sorted(dict1))"
   ]
  },
  {
   "cell_type": "code",
   "execution_count": null,
   "id": "3f8b5c4c",
   "metadata": {},
   "outputs": [],
   "source": [
    "#desc order\n",
    "num = [2,5,10,4,50,36,50,49]\n",
    "for i in sorted(num, reverse= True):\n",
    "    print(i)\n",
    "    \n",
    "# I. looping techniques"
   ]
  },
  {
   "cell_type": "code",
   "execution_count": null,
   "id": "08470540",
   "metadata": {},
   "outputs": [],
   "source": [
    "str1=\"hello world, welcome to python programming\"\n",
    "list1=list(str1)\n",
    "for i in enumerate(list1):\n",
    "    print(i)\n",
    "for key, value in enumerate(list1):\n",
    "    print(key,value)"
   ]
  },
  {
   "cell_type": "code",
   "execution_count": null,
   "id": "e404c9a0",
   "metadata": {},
   "outputs": [],
   "source": [
    "company = \"Hello world\"\n",
    "for i in enumerate(company, start = 10):\n",
    "    print(i)"
   ]
  },
  {
   "cell_type": "code",
   "execution_count": null,
   "id": "91a25282",
   "metadata": {},
   "outputs": [],
   "source": [
    "#zip fn in python\n"
   ]
  },
  {
   "cell_type": "code",
   "execution_count": null,
   "id": "0c80a6ce",
   "metadata": {},
   "outputs": [],
   "source": [
    "#iter()\n",
    "#Python iter() returns an iterator for the given object \n",
    "#The iter fn creates an object which can iterate one element at a time\n",
    "\n",
    "#and the next() returns next item in an iterator\n",
    "\n",
    "#range()\n",
    "#round(8.737832,2)\n",
    "\n",
    "a = ['I', 'N', 'D', 'I', 'A']\n",
    "x = sorted(a, reverse = True)\n",
    "print(x)\n",
    "\n",
    "# factorial\n",
    "#default argument\n",
    "# local and global scope of a variable\n",
    "\n",
    "# z =7\n",
    "# def func5():\n",
    "#     z = z+1    #we cant change the value inside a local scope ****\n",
    "#     print(z)\n",
    "# func5()\n",
    "\n",
    "z = 7      \n",
    "def func6():\n",
    "    global z  #***\n",
    "    z = z+1\n",
    "    print(z)\n",
    "    \n",
    "func6()\n",
    "\n",
    "#If we dont know the no of argumets we need then we can use astrix\n",
    "\n",
    "def welcome(*names):   #***\n",
    "    print('Hello', names[0], ',', names[1], ',', names[2])\n",
    "welcome('steve', 'bill', 'peter')"
   ]
  },
  {
   "cell_type": "code",
   "execution_count": null,
   "id": "d5f9b6fe",
   "metadata": {},
   "outputs": [],
   "source": [
    "add = (lambda x:x+x)\n",
    "print(add(2))\n",
    "\n",
    "div=lambda x,y: x/y\n",
    "print(div(4,2))\n",
    "\n",
    "a=lambda *args:sum(args)\n",
    "print(a(2,3))\n",
    "\n",
    "list1=[10,22,44,55,66,33,23,77,65]\n",
    "ft= filter(lambda x: (x>40),list1 )\n",
    "print(ft)"
   ]
  },
  {
   "cell_type": "code",
   "execution_count": null,
   "id": "e3871699",
   "metadata": {},
   "outputs": [],
   "source": [
    "class TempClass:\n",
    "    x=10\n",
    "print(TempClass.x)"
   ]
  },
  {
   "cell_type": "code",
   "execution_count": null,
   "id": "65179158",
   "metadata": {},
   "outputs": [],
   "source": [
    "class TempClass1:\n",
    "    x=5\n",
    "r=TempClass1()\n",
    "r.x"
   ]
  },
  {
   "cell_type": "code",
   "execution_count": null,
   "id": "6225040b",
   "metadata": {},
   "outputs": [],
   "source": [
    "class ClassTemp:\n",
    "    x = 4\n",
    "    y = 'apple'\n",
    "    def display(self):\n",
    "        print(self.x,self.y)\n",
    "s=ClassTemp()\n",
    "s.display()"
   ]
  },
  {
   "cell_type": "code",
   "execution_count": null,
   "id": "fee3bc3b",
   "metadata": {},
   "outputs": [],
   "source": [
    "class TempClass2:\n",
    "    \"hello world\"   #docString\n",
    "    x=4\n",
    "print(TempClass2.x)\n",
    "print(TempClass2.__doc__)"
   ]
  },
  {
   "cell_type": "code",
   "execution_count": null,
   "id": "e9d59c25",
   "metadata": {},
   "outputs": [],
   "source": [
    "class TempClass3:\n",
    "    def __init__(self,name,dob):\n",
    "        self.name=name\n",
    "        self.dob=dob\n",
    "\n",
    "r=TempClass3(\"harry\",'2000-01-01')\n",
    "print(r.name)\n",
    "print(r.dob)\n",
    "\n",
    "r.name=\"Ron\"\n",
    "print(r.name)\n",
    "\n",
    "del r.dob                      #to delete property of a class\n",
    "print(r.dob)"
   ]
  },
  {
   "cell_type": "code",
   "execution_count": null,
   "id": "3a1dba50",
   "metadata": {},
   "outputs": [],
   "source": [
    "del r          #deletes the object\n",
    "r.name"
   ]
  },
  {
   "cell_type": "code",
   "execution_count": null,
   "id": "1ca83e3e",
   "metadata": {},
   "outputs": [],
   "source": [
    "class Animal:\n",
    "    def __init__(self, name):\n",
    "        self.animal= name\n",
    "    def greet(self):\n",
    "        print(\"hi, my name is \",self.animal)\n",
    "animal=Animal(\"puppy\")\n",
    "animal.greet()"
   ]
  },
  {
   "cell_type": "code",
   "execution_count": null,
   "id": "b22a8e0a",
   "metadata": {},
   "outputs": [],
   "source": [
    "class Car:\n",
    "    def __init__(self,brandname,YoM):\n",
    "        self.brandname=brandname\n",
    "        self.yearofManufacture=YoM\n",
    "    \n",
    "    \n",
    "car=Car(\"Bmw\",2000)\n",
    "car1=Car(\"Ferrari\", 2005)\n",
    "print(\"{} year of manufacture is {}\".format(car.brandname, car.yearofManufacture))\n",
    "print(\"{} year of maufacture is {}\".format(car1.brandname, car1.yearofManufacture))"
   ]
  },
  {
   "cell_type": "code",
   "execution_count": null,
   "id": "849bcaf8",
   "metadata": {},
   "outputs": [],
   "source": [
    "class Vechile:\n",
    "    def __init__(self, brandname,YOM):\n",
    "        self.brandname=brandname\n",
    "        self.yom=YOM\n",
    "    def topSpeed(self,speed):\n",
    "        return \"{} top speed is {}\".format(self.brandname, speed)  #no self at speed\n",
    "    def carType(self):\n",
    "        return \"{} type is geared\".format(self.brandname)\n",
    "    \n",
    "vechile=Vechile(\"bmw\",2000)\n",
    "print((vechile.topSpeed(200)))\n",
    "print(vechile.carType())"
   ]
  },
  {
   "cell_type": "code",
   "execution_count": null,
   "id": "06705765",
   "metadata": {},
   "outputs": [],
   "source": [
    "class Animals:\n",
    "    def sound(self):\n",
    "        print(\"Animal makes sound\")\n",
    "class Cat(Animals):                          \n",
    "    def meow(self):\n",
    "        print(\"Cat meows\")\n",
    "#                                         single level inheritance\n",
    "        \n",
    "animal =Cat()\n",
    "animal.meow()\n",
    "animal.sound()\n"
   ]
  },
  {
   "cell_type": "code",
   "execution_count": null,
   "id": "4bf69ffa",
   "metadata": {},
   "outputs": [],
   "source": [
    "#multilevel inheritance\n",
    "\n",
    "class Cats:\n",
    "    def cat(self):\n",
    "        print(\"cat makes sound\")\n",
    "class Lion(Cats):\n",
    "    def roar(self):\n",
    "        print(\"lion roars\")\n",
    "class lionChild(Lion):\n",
    "    def eat(self):\n",
    "        print(\"Lion child cat eat and roar\")\n",
    "\n",
    "cats = Cats()\n",
    "lion = Lion()\n",
    "lionchild = lionChild()\n",
    "\n",
    "cats.cat()\n",
    "lion.cat()\n",
    "lion.roar()\n",
    "lionchild.cat()\n",
    "lionchild.roar()\n",
    "lionchild.eat()"
   ]
  },
  {
   "cell_type": "code",
   "execution_count": null,
   "id": "70649522",
   "metadata": {},
   "outputs": [],
   "source": [
    "# If a class inherits ABC class and contains abstract method we call it a abstract class\n",
    "from abc import ABC, abstractmethod\n",
    "class Abs(ABC):\n",
    "    @abstractmethod\n",
    "    def mtd(self):\n",
    "        pass\n",
    "obj1 = Abs()\n",
    "obj1.mtd()"
   ]
  },
  {
   "cell_type": "code",
   "execution_count": null,
   "id": "8cc77add",
   "metadata": {},
   "outputs": [],
   "source": [
    "# polymorphism\n",
    "class CatSound:\n",
    "    def sound(self):\n",
    "        print(\"cat meows\")\n",
    "        \n",
    "class LionSound:\n",
    "    def sound(self):\n",
    "        print(\"Lion roars\")\n",
    "        \n",
    "def catsFamsound(animal):\n",
    "    animal.sound()\n",
    "    \n",
    "obj1=CatSound()\n",
    "obj2=LionSound()\n",
    "catsFamsound(obj2)\n"
   ]
  },
  {
   "cell_type": "code",
   "execution_count": null,
   "id": "fb297469",
   "metadata": {},
   "outputs": [],
   "source": [
    "strr=\"hello\"\n",
    "strr[1]"
   ]
  },
  {
   "cell_type": "code",
   "execution_count": null,
   "id": "a5751f17",
   "metadata": {},
   "outputs": [],
   "source": [
    "a=set()"
   ]
  },
  {
   "cell_type": "code",
   "execution_count": null,
   "id": "a3e17937",
   "metadata": {},
   "outputs": [],
   "source": [
    "#file handling\n",
    "import os\n",
    "f=open(\"C:/Users/aniru/Downloads/Temp1/tmpfle.txt\", 'r')\n",
    "# f.write(\"inserting text into file\")\n",
    "print(f.read())\n",
    "print(f.readline())\n",
    "f.close()"
   ]
  },
  {
   "cell_type": "code",
   "execution_count": null,
   "id": "843e8f0e",
   "metadata": {},
   "outputs": [],
   "source": [
    "import os\n",
    "f=open(\"C:/Users/aniru/Downloads/Temp1/tmpfle.txt\", 'r')\n",
    "# f.write(\"inserting text into file\")\n",
    "print(f.read(13))\n",
    "f.close()"
   ]
  },
  {
   "cell_type": "code",
   "execution_count": null,
   "id": "e00c3c5b",
   "metadata": {},
   "outputs": [],
   "source": [
    "import os\n",
    "f=open(\"C:/Users/aniru/Downloads/Temp1/tmpfle.txt\", 'r')\n",
    "# f.write(\"inserting text into file\")\n",
    "print(f.readline())\n",
    "f.close()"
   ]
  },
  {
   "cell_type": "code",
   "execution_count": null,
   "id": "af868234",
   "metadata": {},
   "outputs": [],
   "source": [
    "import os \n",
    "f=open(\"C:/Users/aniru/Downloads/Temp1/tmpfle.txt\",'r')\n",
    "print(f.readlines())\n",
    "f.close()"
   ]
  },
  {
   "cell_type": "code",
   "execution_count": null,
   "id": "d42efcf0",
   "metadata": {},
   "outputs": [],
   "source": [
    "import os\n",
    "f=open(\"C:/Users/aniru/Downloads/Temp1/tmpfle.txt\", 'r')\n",
    "print(f.readline(3))\n",
    "f.close()"
   ]
  },
  {
   "cell_type": "code",
   "execution_count": null,
   "id": "10c73e42",
   "metadata": {},
   "outputs": [],
   "source": [
    "import os \n",
    "f=open(\"C:/Users/aniru/Downloads/Temp1/tmpwrt.txt\", 'w')\n",
    "f.write(\"file has been created and successfully inserted text into it\")\n",
    "f.close()\n",
    "\n",
    "f=open(\"C:/Users/aniru/Downloads/Temp1/tmpwrt.txt\",'r')\n",
    "print(f.read())\n",
    "f.close()"
   ]
  },
  {
   "cell_type": "code",
   "execution_count": null,
   "id": "d9fa37da",
   "metadata": {},
   "outputs": [],
   "source": [
    "import os\n",
    "f=open(\"C:/Users/aniru/Downloads/Temp1/tmpcrt.txt\", 'x')\n",
    "f.close()"
   ]
  },
  {
   "cell_type": "code",
   "execution_count": null,
   "id": "7e089f98",
   "metadata": {},
   "outputs": [],
   "source": [
    "if os.path.exists(\"C:/Users/aniru/Downloads/Temp1/tmpcrt.txt\"):\n",
    "    os.remove(\"C:/Users/aniru/Downloads/Temp1/tmpcrt.txt\")\n",
    "else:\n",
    "    print(\"file doesn't exist\")"
   ]
  },
  {
   "cell_type": "code",
   "execution_count": null,
   "id": "8299f6e9",
   "metadata": {},
   "outputs": [],
   "source": [
    "try:\n",
    "    a=1\n",
    "    b=0\n",
    "    c=a/b\n",
    "    print(c)\n",
    "except:\n",
    "    print(\"can't divide by zero\")\n",
    "\n"
   ]
  },
  {
   "cell_type": "code",
   "execution_count": null,
   "id": "8fb9c434",
   "metadata": {},
   "outputs": [],
   "source": [
    "try:\n",
    "    a=33\n",
    "    b=0\n",
    "    c=a/b\n",
    "    print(c)\n",
    "except Exception as e:\n",
    "    print(e)"
   ]
  },
  {
   "cell_type": "code",
   "execution_count": null,
   "id": "c5681ccd",
   "metadata": {},
   "outputs": [],
   "source": [
    "import os\n",
    "try:\n",
    "    f=open(\"C:/Users/aniru/Downloads/CCNA_200-301/fhsduh.txt\",'r')\n",
    "    print(f.read())\n",
    "except Exception as e:\n",
    "    print(e)"
   ]
  },
  {
   "cell_type": "code",
   "execution_count": null,
   "id": "129c5c09",
   "metadata": {},
   "outputs": [],
   "source": [
    "# with finally block\n",
    "def func1():\n",
    "    try:\n",
    "        a,b=4,0\n",
    "        c=a/b\n",
    "        return c\n",
    "    except:\n",
    "        return 0\n",
    "    \n",
    "    finally:\n",
    "        print(\"This is always executed\")\n",
    "        \n",
    "func1()"
   ]
  },
  {
   "cell_type": "code",
   "execution_count": null,
   "id": "69279f8b",
   "metadata": {},
   "outputs": [],
   "source": [
    "# without finally block\n",
    "def func2():\n",
    "    try:\n",
    "        a,b=3,0\n",
    "        c=a/b\n",
    "        return c\n",
    "    except:\n",
    "        return 0\n",
    "    print(\"This is not printed like finally block\")\n",
    "func2()"
   ]
  },
  {
   "cell_type": "code",
   "execution_count": null,
   "id": "176b5bed",
   "metadata": {},
   "outputs": [],
   "source": [
    "a=int(input())\n",
    "if a<5 or a>9:\n",
    "    raise ValueError(\"No is not in range\")"
   ]
  },
  {
   "cell_type": "code",
   "execution_count": null,
   "id": "64e25538",
   "metadata": {},
   "outputs": [],
   "source": [
    "a=[1,22,3,44,5,66,7,88,9,100]\n",
    "for i in a:\n",
    "    if i%2!=0:    #*********   i is element not index\n",
    "        pass\n",
    "    else:\n",
    "        print(i, end=' ')"
   ]
  },
  {
   "cell_type": "code",
   "execution_count": null,
   "id": "108aca3b",
   "metadata": {},
   "outputs": [],
   "source": [
    "#map integers with fns\n",
    "def add(a):\n",
    "    return a+a\n",
    "l1=[1,4,5,6,7]\n",
    "out= map(add, l1)\n",
    "print(out)\n",
    "print(list(out))"
   ]
  },
  {
   "cell_type": "code",
   "execution_count": null,
   "id": "aa8f92db",
   "metadata": {},
   "outputs": [],
   "source": [
    "# map integers with lambda\n",
    "add=map(lambda x: x+x , [1,2,3,4,5])\n",
    "print(list(add))"
   ]
  },
  {
   "cell_type": "code",
   "execution_count": null,
   "id": "1c8410a9",
   "metadata": {},
   "outputs": [],
   "source": [
    "# map using string fns\n",
    "s1=[\"hey\", \"hi\", \"hello\"]\n",
    "out=map(str.upper, s1)\n",
    "print(list(out))"
   ]
  },
  {
   "cell_type": "code",
   "execution_count": null,
   "id": "a8381963",
   "metadata": {},
   "outputs": [],
   "source": [
    "# map strings with lambda\n",
    "map_obj=map(lambda x: len(x), ['hey', 'hi', 'hello'])\n",
    "length=list(map_obj)\n",
    "print(length)"
   ]
  },
  {
   "cell_type": "code",
   "execution_count": null,
   "id": "b8e86e78",
   "metadata": {},
   "outputs": [],
   "source": [
    "#map Strings\n",
    "moj= map(len, ['hey', 'hi', 'hello'])\n",
    "length=list(moj)\n",
    "print(length)"
   ]
  },
  {
   "cell_type": "code",
   "execution_count": null,
   "id": "3aa97efa",
   "metadata": {},
   "outputs": [],
   "source": [
    "#filter using fns\n",
    "def grt(x):\n",
    "    if x>5:\n",
    "        return x\n",
    "    \n",
    "fil_obj=filter(grt, [1,22,3,44,5])\n",
    "greater= list(fil_obj)\n",
    "print(greater)"
   ]
  },
  {
   "cell_type": "code",
   "execution_count": null,
   "id": "65e29ff1",
   "metadata": {},
   "outputs": [],
   "source": [
    "#filter using lambda\n",
    "grtr_obj=filter(lambda x:x>5, [11,2,3,43,5,6])\n",
    "grtr=list(grtr_obj)\n",
    "print(grtr)"
   ]
  },
  {
   "cell_type": "code",
   "execution_count": null,
   "id": "0bc83610",
   "metadata": {},
   "outputs": [],
   "source": [
    "# filter strings\n",
    "def einveg(s):\n",
    "    return 'e' in s\n",
    "s=['peas', 'carrot', 'beetroot', 'ginger']\n",
    "fil_obj=filter(einveg, s)\n",
    "print(list(fil_obj))"
   ]
  },
  {
   "cell_type": "code",
   "execution_count": null,
   "id": "92a3f726",
   "metadata": {},
   "outputs": [],
   "source": [
    "fil_obj=filter(lambda s:'e' in s,s )\n",
    "list1=list(fil_obj)\n",
    "print(list1)"
   ]
  },
  {
   "cell_type": "code",
   "execution_count": null,
   "id": "d4e51e9c",
   "metadata": {},
   "outputs": [],
   "source": [
    "#Reduce fn using fns\n",
    "from functools import reduce\n",
    "def add(a,b):\n",
    "    return a+b\n",
    "l1=[1,2,3,4,5]\n",
    "add=reduce(add,l1)\n",
    "print(add)    #its a single list so we dont need to convert to list"
   ]
  },
  {
   "cell_type": "code",
   "execution_count": null,
   "id": "d25dd2b5",
   "metadata": {},
   "outputs": [],
   "source": [
    "sum_=reduce(lambda x,y:x+y, [1,2,3,4,5])\n",
    "print(sum_)"
   ]
  },
  {
   "cell_type": "code",
   "execution_count": null,
   "id": "51e249f8",
   "metadata": {},
   "outputs": [],
   "source": [
    "from calc import *\n",
    "dir(calc)"
   ]
  },
  {
   "cell_type": "code",
   "execution_count": null,
   "id": "bae0b792",
   "metadata": {},
   "outputs": [],
   "source": [
    "from calc import rem\n",
    "rem(5,4)"
   ]
  },
  {
   "cell_type": "code",
   "execution_count": null,
   "id": "16e2f845",
   "metadata": {},
   "outputs": [],
   "source": [
    "import calc\n",
    "obj1=sum1(4,4)\n",
    "print(obj1.add1())"
   ]
  },
  {
   "cell_type": "code",
   "execution_count": null,
   "id": "9e7198a0",
   "metadata": {},
   "outputs": [],
   "source": [
    "import calc\n",
    "calc.y\n",
    "calc.rem(5,4)\n",
    "obj1=sum1(4,4)  #****\n",
    "obj1.add1(4,4) "
   ]
  },
  {
   "cell_type": "code",
   "execution_count": null,
   "id": "2b9225b1",
   "metadata": {},
   "outputs": [],
   "source": [
    "#local scope\n",
    "# def fun1():\n",
    "#     a='hi'\n",
    "#     print(a)\n",
    "# fun1()\n",
    "# print(a)\n",
    "\n",
    "#Accessing local fn\n",
    "def fn1():\n",
    "    x=1\n",
    "    def fn2():\n",
    "        print(\"hi\")\n",
    "fn2()"
   ]
  },
  {
   "cell_type": "code",
   "execution_count": 10,
   "id": "56320ecd",
   "metadata": {},
   "outputs": [
    {
     "name": "stdout",
     "output_type": "stream",
     "text": [
      "hi\n"
     ]
    }
   ],
   "source": [
    "# Enclosed scope\n",
    "def fn():\n",
    "    s='hi'\n",
    "    def fn1():\n",
    "        print(s)\n",
    "    fn1()\n",
    "fn()"
   ]
  },
  {
   "cell_type": "code",
   "execution_count": 3,
   "id": "b21215d7",
   "metadata": {},
   "outputs": [
    {
     "name": "stdout",
     "output_type": "stream",
     "text": [
      "hello\n"
     ]
    }
   ],
   "source": [
    "def fnn():\n",
    "    s=\"hello\"\n",
    "    def ifnn():\n",
    "        nonlocal s\n",
    "        print(s)\n",
    "    ifnn()\n",
    "fnn()"
   ]
  },
  {
   "cell_type": "code",
   "execution_count": 48,
   "id": "25c5b81b",
   "metadata": {},
   "outputs": [
    {
     "name": "stdout",
     "output_type": "stream",
     "text": [
      "3.141592653589793\n",
      "3.141592653589793\n"
     ]
    }
   ],
   "source": [
    "#Built-in scope\n",
    "from math import pi\n",
    "def outblt():\n",
    "#     pi=\"hello\"\n",
    "    print(pi)\n",
    "    def inblt():\n",
    "        print(pi)\n",
    "    inblt()\n",
    "outblt()"
   ]
  },
  {
   "cell_type": "code",
   "execution_count": 10,
   "id": "f4db04a9",
   "metadata": {},
   "outputs": [
    {
     "name": "stdout",
     "output_type": "stream",
     "text": [
      "1\n",
      "2\n",
      "3\n",
      "4\n"
     ]
    }
   ],
   "source": [
    "#iterators\n",
    "# def iters():\n",
    "#     a=[1,2,3,4,5]\n",
    "#     out=iter(a)     #***\n",
    "#     return out\n",
    "# rtn=iters()\n",
    "# print(next(rtn))\n",
    "# print(next(rtn))\n",
    "# print(next(rtn))\n",
    "# print(next(rtn))\n",
    "\n",
    "#iterators\n",
    "def iters():\n",
    "    a=[1,2,3,4,5]\n",
    "    out=a.__iter__()   #****\n",
    "    return out\n",
    "rtn=iters()\n",
    "print(next(rtn))\n",
    "print(next(rtn))\n",
    "print(next(rtn))\n",
    "print(next(rtn))"
   ]
  },
  {
   "cell_type": "code",
   "execution_count": 4,
   "id": "193d0746",
   "metadata": {},
   "outputs": [
    {
     "name": "stdout",
     "output_type": "stream",
     "text": [
      "1\n",
      "4\n",
      "9\n",
      "16\n",
      "25\n"
     ]
    }
   ],
   "source": [
    "#generators\n",
    "#Memory management\n",
    "\n",
    "def sqrs(l1):\n",
    "    for i in l1:\n",
    "        yield (i*i)\n",
    "        \n",
    "squares= sqrs([1,2,3,4,5])\n",
    "# print(next(squares))\n",
    "# print(next(squares))\n",
    "# print(next(squares))\n",
    "# print(next(squares))\n",
    "# print(next(squares))\n",
    "\n",
    "\n",
    "for i in squares:\n",
    "    print(i)"
   ]
  },
  {
   "cell_type": "code",
   "execution_count": 3,
   "id": "a5077752",
   "metadata": {},
   "outputs": [
    {
     "name": "stdout",
     "output_type": "stream",
     "text": [
      "Displays in black and white\n",
      "Displays in black and white\n",
      "Displays in colors\n"
     ]
    }
   ],
   "source": [
    "#Single level Inheritance\n",
    "class Bwtv:\n",
    "    def bwtvmtd(self):\n",
    "        print(\"Displays in black and white\")\n",
    "        \n",
    "class Ctv(Bwtv):\n",
    "    def ctvmtd(self):\n",
    "        print(\"Displays in colors\")\n",
    "\n",
    "obj1=Bwtv()\n",
    "obj2=Ctv()\n",
    "\n",
    "obj1.bwtvmtd()\n",
    "obj2.bwtvmtd()\n",
    "obj2.ctvmtd()\n"
   ]
  },
  {
   "cell_type": "code",
   "execution_count": 6,
   "id": "14024047",
   "metadata": {},
   "outputs": [
    {
     "name": "stdout",
     "output_type": "stream",
     "text": [
      "I can do farming\n",
      "I can farm and do business\n",
      "I can farm, do business and study\n"
     ]
    }
   ],
   "source": [
    "#multilevel Inheritance\n",
    "class GrandParent:\n",
    "    def gmtd(self):\n",
    "        print(\"I can do farming\")\n",
    "class Father(GrandParent):\n",
    "    def fmtd(self):\n",
    "        print(\"I can farm and do business\")\n",
    "class Child(Father):\n",
    "    def cmtd(self):\n",
    "        print(\"I can farm, do business and study\")\n",
    "        \n",
    "obj1=GrandParent()\n",
    "obj2=Father()\n",
    "obj3=Child()\n",
    "\n",
    "obj3.gmtd()\n",
    "obj3.fmtd()\n",
    "obj3.cmtd()        \n",
    "        "
   ]
  },
  {
   "cell_type": "code",
   "execution_count": 7,
   "id": "76f6ae37",
   "metadata": {},
   "outputs": [
    {
     "name": "stdout",
     "output_type": "stream",
     "text": [
      "Lion can roar\n",
      "Lion can roar\n"
     ]
    }
   ],
   "source": [
    "#Hierarchical Inheritance\n",
    "class Lion:\n",
    "    def lionmtd(self):\n",
    "        print(\"Lion can roar\")\n",
    "class Cub1(Lion):\n",
    "    def cub1mtd(self):\n",
    "        print(\"Cub1 can roar like Lion and drink milk\")\n",
    "class Cub2(Lion):\n",
    "    def cub2mtd(self):\n",
    "        print(\"cub2 can roar like Lion and drink milk\")\n",
    "        \n",
    "obj1=Lion()\n",
    "obj2=Cub1()\n",
    "obj3=Cub2()\n",
    "\n",
    "obj2.lionmtd()\n",
    "obj3.lionmtd()"
   ]
  },
  {
   "cell_type": "code",
   "execution_count": 12,
   "id": "fc81369c",
   "metadata": {},
   "outputs": [
    {
     "name": "stdout",
     "output_type": "stream",
     "text": [
      "I can cook\n",
      "I can do business\n",
      "<bound method Parent2.mtd2 of <__main__.Child object at 0x0000019DC47A8ED0>>\n"
     ]
    }
   ],
   "source": [
    "#Multiple Inheritance\n",
    "class Parent1:\n",
    "    def mtd1(self):\n",
    "        print(\"I can cook\")\n",
    "class Parent2:\n",
    "    def mtd2(self):\n",
    "        print(\"I can do business\")\n",
    "class Child(Parent1,Parent2):\n",
    "    def mtd(self):\n",
    "        print(\"I am a child\")\n",
    "        \n",
    "obj1=Parent1()\n",
    "obj2=Parent2()\n",
    "obj3=Child()\n",
    "obj3.mtd1()\n",
    "obj3.mtd2()"
   ]
  },
  {
   "cell_type": "code",
   "execution_count": 1,
   "id": "3101c07d",
   "metadata": {},
   "outputs": [],
   "source": [
    "#when we call the method using class we have to pass instance in that method"
   ]
  },
  {
   "cell_type": "code",
   "execution_count": 33,
   "id": "5e77279e",
   "metadata": {},
   "outputs": [
    {
     "name": "stdout",
     "output_type": "stream",
     "text": [
      "[1, 4, 5, [2, 3, 4], 'hi', 23, 4.5, 'hello', 44.4]\n",
      "[1, 4, 'ins', 5, [2, 3, 4], 'hi', 23, 4.5, 'hello', 44.4]\n",
      "4\n",
      "[1, 4, 'ins', 5, [2, 3, 4], 'hi', 23, 4.5, 'hello']\n",
      "[1, 'ins', 5, [2, 3, 4], 'hi', 23, 4.5, 'hello']\n",
      "7\n",
      "['hello', 4.5, 23, 'hi', [2, 3, 4], 5, 'ins', 1]\n",
      "[1, 2, 3, 4, 5, 6, 7, 8]\n"
     ]
    }
   ],
   "source": [
    "#list\n",
    "ls1=[1,4,5,[2,3,4],'hi',23, 4.5, 'hello']\n",
    "ls1.append(44.4)\n",
    "print(ls1)\n",
    "ls1.insert(2,\"ins\")\n",
    "print(ls1)\n",
    "print(ls1[4][2])\n",
    "ls1.pop()\n",
    "print(ls1)\n",
    "ls1.remove(4)  # removes the given element\n",
    "print(ls1)\n",
    "print(ls1.index('hello'))\n",
    "ls1.reverse()\n",
    "print(ls1)\n",
    "\n",
    "ls2=[1,2,3,4]\n",
    "ls22=[5,6,7,8]\n",
    "ls1+ls22\n",
    "ls2*2\n",
    "ls2.extend(ls22)\n",
    "print(ls2)"
   ]
  },
  {
   "cell_type": "code",
   "execution_count": 106,
   "id": "340c8b00",
   "metadata": {},
   "outputs": [
    {
     "name": "stdout",
     "output_type": "stream",
     "text": [
      "[1, 2, 4]\n",
      "[1, 2]\n",
      "1\n",
      "2\n"
     ]
    }
   ],
   "source": [
    "ls=[1,2,3,4]\n",
    "ls.pop(2) #second index\n",
    "print(ls)\n",
    "ls.pop() #last index\n",
    "print(ls)\n",
    "\n",
    "for i in ls:\n",
    "    print(i)"
   ]
  },
  {
   "cell_type": "code",
   "execution_count": 41,
   "id": "515677a5",
   "metadata": {},
   "outputs": [
    {
     "name": "stdout",
     "output_type": "stream",
     "text": [
      "[3, 77, 7, 3, 5, 2]\n"
     ]
    }
   ],
   "source": [
    "ls1=[2,5,3,7,77,3]\n",
    "ls1.count(3)\n",
    "ls1.reverse()\n",
    "print(ls1)"
   ]
  },
  {
   "cell_type": "code",
   "execution_count": 24,
   "id": "c280e1fd",
   "metadata": {},
   "outputs": [
    {
     "name": "stdout",
     "output_type": "stream",
     "text": [
      "(1, 3, 4, 'hi', 'hi', 5, (10, 11), 1, 3, 4, 'hi', 'hi', 5, (10, 11))\n",
      "(1, 3, 4, 'hi', 'hi', 5, (10, 11), 1, 3, 4, 'hi', 'hi', 5, (10, 11))\n",
      "\n",
      "1\n",
      "3\n",
      "4\n",
      "hi\n",
      "hi\n",
      "5\n",
      "(10, 11)\n",
      "<class 'str'>\n",
      "<class 'tuple'>\n",
      "('hello',)\n"
     ]
    }
   ],
   "source": [
    "#tuple\n",
    "#we cant add, remove elements from tuple\n",
    "#we cant append a tuple\n",
    "tp=(1,3,4,'hi','hi',5,(10,11))\n",
    "tp[1]\n",
    "tp[6][0]\n",
    "print(tp+tp)\n",
    "print(tp*2)\n",
    "tp.count('hi')\n",
    "tp.index((10,11)) #(10,11) is single element\n",
    "tp[4:7]\n",
    "print()\n",
    "for i in tp:\n",
    "    print(i)\n",
    "    \n",
    "tp1=(\"hello\")   #not a tuple\n",
    "print(type(tp1))\n",
    "tp2=(\"hello\",)   #this is a tuple\n",
    "print(type(tp2))"
   ]
  },
  {
   "cell_type": "code",
   "execution_count": 102,
   "id": "a4073754",
   "metadata": {},
   "outputs": [
    {
     "name": "stdout",
     "output_type": "stream",
     "text": [
      "dict_keys([1, 3, 2, 4])\n",
      "hey\n",
      "hey\n",
      "bye\n",
      "{1: 'hi', 3: 'hello', 2: 'hey'}\n",
      "{1: 'hi', 3: 'hello', 2: 'welcome'}\n",
      "1 hi 3 hello 2 welcome "
     ]
    }
   ],
   "source": [
    "#dictionary\n",
    "d1={1:\"hi\",3:\"hello\",2:\"hey\",4:\"bye\"}\n",
    "print(d1.keys())\n",
    "print(d1[2])\n",
    "print(d1.get(2))\n",
    "print(d1.pop(4))\n",
    "print(d1)\n",
    "d1.update({2:\"welcome\"})\n",
    "print(d1)\n",
    "len(d1)\n",
    "sorted(d1)\n",
    "\n",
    "for x in d1:\n",
    "    print(x, end=\" \")\n",
    "    print(d1[x], end=\" \")"
   ]
  },
  {
   "cell_type": "code",
   "execution_count": 6,
   "id": "31d2a85e",
   "metadata": {},
   "outputs": [
    {
     "name": "stdout",
     "output_type": "stream",
     "text": [
      "{3, 4, 5} {1, 2, 3}\n",
      "{4, 5}\n",
      "{3}\n",
      "{1, 2, 3, 4, 5}\n",
      "{'i', 'h'}\n",
      "{0, 1}\n",
      "{'i', 'hello', 'h'}\n",
      "{'l', 'e', 'o', 'h'} hhh\n"
     ]
    }
   ],
   "source": [
    "# set\n",
    "# Sets are immutable in python which means we can't change the values of elements once the set is created.   *******\n",
    "s1=set({3,4,5,5})\n",
    "s2={1,2,3,3}\n",
    "print(s1,s2)\n",
    "print(s1-s2)\n",
    "print(s1&s2)\n",
    "print(s1 | s2)\n",
    "\n",
    "s3=set('hi')\n",
    "print(s3)\n",
    "s4=set([1,1,0,0])\n",
    "print(s4)\n",
    "\n",
    "s3.add(\"hello\")\n",
    "print(s3)\n",
    "\n",
    "ss=set('hello')"
   ]
  },
  {
   "cell_type": "code",
   "execution_count": 10,
   "id": "91a5a495",
   "metadata": {},
   "outputs": [
    {
     "data": {
      "text/plain": [
       "2"
      ]
     },
     "execution_count": 10,
     "metadata": {},
     "output_type": "execute_result"
    }
   ],
   "source": [
    "class Stm:\n",
    "    def __init__(self, num1, num2):\n",
    "        self.a=num1\n",
    "        self.b=num2\n",
    "    @staticmethod\n",
    "    def add(a,b):\n",
    "        \n",
    "        return(a+b)\n",
    "obj1=Stm(3,4)\n",
    "obj1.add(3,3)\n",
    "Stm.add(1,1)"
   ]
  },
  {
   "cell_type": "code",
   "execution_count": 28,
   "id": "b704af5e",
   "metadata": {},
   "outputs": [
    {
     "name": "stdout",
     "output_type": "stream",
     "text": [
      "Im a proteted method\n",
      "Im a public method\n",
      "5\n",
      "I am a private method\n"
     ]
    }
   ],
   "source": [
    "#Encapsulation practice\n",
    "class Encap:\n",
    "    __a=5\n",
    "    _b=55\n",
    "    def __privatemethod(self):\n",
    "        print(\"I am a private method\")\n",
    "    def _protectedmethod(self):\n",
    "        print(\"Im a proteted method\")\n",
    "    def publicmethod(self):\n",
    "        print(\"Im a public method\")\n",
    "        \n",
    "class Child(Encap):\n",
    "    def method(self):\n",
    "        print(\"Im a public method\")\n",
    "\n",
    "obj1=Encap()\n",
    "obj2=Child()\n",
    "\n",
    "# print(obj1.__a)\n",
    "# obj1.__privatemethod()\n",
    "obj1._protectedmethod()\n",
    "obj1.publicmethod()\n",
    "\n",
    "print(obj2._Encap__a)\n",
    "obj2._Encap__privatemethod()"
   ]
  },
  {
   "cell_type": "code",
   "execution_count": 36,
   "id": "3c2a8127",
   "metadata": {},
   "outputs": [
    {
     "name": "stdout",
     "output_type": "stream",
     "text": [
      "I can't display like clr\n",
      "I can display different colors\n"
     ]
    }
   ],
   "source": [
    "#polymorphism practice\n",
    "class Bw:\n",
    "    def bwDisplay(self):\n",
    "        print(\"I can't display like clr\")\n",
    "    def clrDisplay(self):\n",
    "        print(\"I can't display different colors\")\n",
    "class Clr:\n",
    "    def bwDisplay(self):\n",
    "        print(\"I can display different colors\")\n",
    "    def clrDisplay(self):\n",
    "        print(\"I can't display bW\")\n",
    "    \n",
    "def displayTest(tv):\n",
    "    tv.bwDisplay()\n",
    "    \n",
    "obj1=Bw()\n",
    "obj2=Clr()\n",
    "displayTest(obj1)\n",
    "displayTest(obj2)\n",
    "     "
   ]
  },
  {
   "cell_type": "code",
   "execution_count": 15,
   "id": "eaeec192",
   "metadata": {},
   "outputs": [
    {
     "name": "stdout",
     "output_type": "stream",
     "text": [
      "hello method1\n",
      "hello method2\n"
     ]
    }
   ],
   "source": [
    "#abstraction\n",
    "from abc import ABC, abstractmethod\n",
    "class abt(ABC):\n",
    "    @abstractmethod\n",
    "    def method1():\n",
    "        pass\n",
    "    @abstractmethod\n",
    "    def method2():\n",
    "        pass\n",
    "class abtc(abt):\n",
    "    def method1(self):\n",
    "        print(\"hello method1\")\n",
    "    def method2(self):\n",
    "        print(\"hello method2\")\n",
    "obj1=abtc()\n",
    "obj1.method1()\n",
    "obj1.method2()"
   ]
  },
  {
   "cell_type": "code",
   "execution_count": null,
   "id": "5f3958cd",
   "metadata": {},
   "outputs": [],
   "source": []
  },
  {
   "cell_type": "code",
   "execution_count": 2,
   "id": "d65fb58a",
   "metadata": {},
   "outputs": [
    {
     "data": {
      "application/javascript": "\n        if (window._pyforest_update_imports_cell) { window._pyforest_update_imports_cell('import numpy as np'); }\n    ",
      "text/plain": [
       "<IPython.core.display.Javascript object>"
      ]
     },
     "metadata": {},
     "output_type": "display_data"
    },
    {
     "name": "stdout",
     "output_type": "stream",
     "text": [
      "<class 'numpy.ndarray'>\n"
     ]
    }
   ],
   "source": [
    "arr = [1,2,3,4,5]\n",
    "np_arr = np.array(arr)\n",
    "print(type(np_arr))"
   ]
  }
 ],
 "metadata": {
  "kernelspec": {
   "display_name": "Python 3 (ipykernel)",
   "language": "python",
   "name": "python3"
  },
  "language_info": {
   "codemirror_mode": {
    "name": "ipython",
    "version": 3
   },
   "file_extension": ".py",
   "mimetype": "text/x-python",
   "name": "python",
   "nbconvert_exporter": "python",
   "pygments_lexer": "ipython3",
   "version": "3.12.1"
  }
 },
 "nbformat": 4,
 "nbformat_minor": 5
}
